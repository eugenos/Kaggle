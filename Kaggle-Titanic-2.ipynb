{
 "metadata": {
  "name": ""
 },
 "nbformat": 3,
 "nbformat_minor": 0,
 "worksheets": [
  {
   "cells": [
    {
     "cell_type": "code",
     "collapsed": false,
     "input": [
      "import urllib\n",
      "import os\n",
      "import json\n",
      "import time\n",
      "import random\n",
      "import numpy as np\n",
      "import pandas as pd\n",
      "import matplotlib\n",
      "from matplotlib import pyplot as plt\n",
      "%matplotlib inline\n",
      "import csv as csv\n",
      "pd.set_printoptions(notebook_repr_html=True)\n",
      "pd.set_printoptions(max_rows=50)\n",
      "%pylab inline"
     ],
     "language": "python",
     "metadata": {},
     "outputs": [
      {
       "output_type": "stream",
       "stream": "stdout",
       "text": [
        "Populating the interactive namespace from numpy and matplotlib\n"
       ]
      },
      {
       "output_type": "stream",
       "stream": "stderr",
       "text": [
        "WARNING: pylab import has clobbered these variables: ['random']\n",
        "`%pylab --no-import-all` prevents importing * from pylab and numpy\n"
       ]
      }
     ],
     "prompt_number": 284
    },
    {
     "cell_type": "code",
     "collapsed": false,
     "input": [
      "dataset = pd.read_csv(\"/Users/genos/Dropbox/Data-Science-GA/titanic/train.csv\")"
     ],
     "language": "python",
     "metadata": {},
     "outputs": [],
     "prompt_number": 285
    },
    {
     "cell_type": "heading",
     "level": 3,
     "metadata": {},
     "source": [
      "Using pandas, this tells you what are the columns in the data and how many non-numerical values in each column"
     ]
    },
    {
     "cell_type": "code",
     "collapsed": false,
     "input": [
      "dataset"
     ],
     "language": "python",
     "metadata": {},
     "outputs": [
      {
       "html": [
        "<pre>\n",
        "&lt;class 'pandas.core.frame.DataFrame'&gt;\n",
        "Int64Index: 891 entries, 0 to 890\n",
        "Data columns (total 12 columns):\n",
        "PassengerId    891  non-null values\n",
        "Survived       891  non-null values\n",
        "Pclass         891  non-null values\n",
        "Name           891  non-null values\n",
        "Sex            891  non-null values\n",
        "Age            714  non-null values\n",
        "SibSp          891  non-null values\n",
        "Parch          891  non-null values\n",
        "Ticket         891  non-null values\n",
        "Fare           891  non-null values\n",
        "Cabin          204  non-null values\n",
        "Embarked       889  non-null values\n",
        "dtypes: float64(2), int64(5), object(5)\n",
        "</pre>"
       ],
       "metadata": {},
       "output_type": "pyout",
       "prompt_number": 286,
       "text": [
        "<class 'pandas.core.frame.DataFrame'>\n",
        "Int64Index: 891 entries, 0 to 890\n",
        "Data columns (total 12 columns):\n",
        "PassengerId    891  non-null values\n",
        "Survived       891  non-null values\n",
        "Pclass         891  non-null values\n",
        "Name           891  non-null values\n",
        "Sex            891  non-null values\n",
        "Age            714  non-null values\n",
        "SibSp          891  non-null values\n",
        "Parch          891  non-null values\n",
        "Ticket         891  non-null values\n",
        "Fare           891  non-null values\n",
        "Cabin          204  non-null values\n",
        "Embarked       889  non-null values\n",
        "dtypes: float64(2), int64(5), object(5)"
       ]
      }
     ],
     "prompt_number": 286
    },
    {
     "cell_type": "code",
     "collapsed": false,
     "input": [
      "print dataset.head()"
     ],
     "language": "python",
     "metadata": {},
     "outputs": [
      {
       "output_type": "stream",
       "stream": "stdout",
       "text": [
        "   PassengerId  Survived  Pclass  \\\n",
        "0            1         0       3   \n",
        "1            2         1       1   \n",
        "2            3         1       3   \n",
        "3            4         1       1   \n",
        "4            5         0       3   \n",
        "\n",
        "                                                Name     Sex  Age  SibSp  \\\n",
        "0                            Braund, Mr. Owen Harris    male   22      1   \n",
        "1  Cumings, Mrs. John Bradley (Florence Briggs Th...  female   38      1   \n",
        "2                             Heikkinen, Miss. Laina  female   26      0   \n",
        "3       Futrelle, Mrs. Jacques Heath (Lily May Peel)  female   35      1   \n",
        "4                           Allen, Mr. William Henry    male   35      0   \n",
        "\n",
        "   Parch            Ticket     Fare Cabin Embarked  \n",
        "0      0         A/5 21171   7.2500   NaN        S  \n",
        "1      0          PC 17599  71.2833   C85        C  \n",
        "2      0  STON/O2. 3101282   7.9250   NaN        S  \n",
        "3      0            113803  53.1000  C123        S  \n",
        "4      0            373450   8.0500   NaN        S  \n"
       ]
      }
     ],
     "prompt_number": 287
    },
    {
     "cell_type": "code",
     "collapsed": false,
     "input": [
      "dataset = dataset.drop(['Ticket','Cabin'], axis=1) "
     ],
     "language": "python",
     "metadata": {},
     "outputs": [],
     "prompt_number": 288
    },
    {
     "cell_type": "code",
     "collapsed": false,
     "input": [
      "dataset = dataset.dropna()"
     ],
     "language": "python",
     "metadata": {},
     "outputs": [],
     "prompt_number": 289
    },
    {
     "cell_type": "code",
     "collapsed": false,
     "input": [
      "dataset.describe()"
     ],
     "language": "python",
     "metadata": {},
     "outputs": [
      {
       "html": [
        "<div style=\"max-height:1000px;max-width:1500px;overflow:auto;\">\n",
        "<table border=\"1\" class=\"dataframe\">\n",
        "  <thead>\n",
        "    <tr style=\"text-align: right;\">\n",
        "      <th></th>\n",
        "      <th>PassengerId</th>\n",
        "      <th>Survived</th>\n",
        "      <th>Pclass</th>\n",
        "      <th>Age</th>\n",
        "      <th>SibSp</th>\n",
        "      <th>Parch</th>\n",
        "      <th>Fare</th>\n",
        "    </tr>\n",
        "  </thead>\n",
        "  <tbody>\n",
        "    <tr>\n",
        "      <th>count</th>\n",
        "      <td> 712.000000</td>\n",
        "      <td> 712.000000</td>\n",
        "      <td> 712.000000</td>\n",
        "      <td> 712.000000</td>\n",
        "      <td> 712.000000</td>\n",
        "      <td> 712.000000</td>\n",
        "      <td> 712.000000</td>\n",
        "    </tr>\n",
        "    <tr>\n",
        "      <th>mean</th>\n",
        "      <td> 448.589888</td>\n",
        "      <td>   0.404494</td>\n",
        "      <td>   2.240169</td>\n",
        "      <td>  29.642093</td>\n",
        "      <td>   0.514045</td>\n",
        "      <td>   0.432584</td>\n",
        "      <td>  34.567251</td>\n",
        "    </tr>\n",
        "    <tr>\n",
        "      <th>std</th>\n",
        "      <td> 258.683191</td>\n",
        "      <td>   0.491139</td>\n",
        "      <td>   0.836854</td>\n",
        "      <td>  14.492933</td>\n",
        "      <td>   0.930692</td>\n",
        "      <td>   0.854181</td>\n",
        "      <td>  52.938648</td>\n",
        "    </tr>\n",
        "    <tr>\n",
        "      <th>min</th>\n",
        "      <td>   1.000000</td>\n",
        "      <td>   0.000000</td>\n",
        "      <td>   1.000000</td>\n",
        "      <td>   0.420000</td>\n",
        "      <td>   0.000000</td>\n",
        "      <td>   0.000000</td>\n",
        "      <td>   0.000000</td>\n",
        "    </tr>\n",
        "    <tr>\n",
        "      <th>25%</th>\n",
        "      <td> 222.750000</td>\n",
        "      <td>   0.000000</td>\n",
        "      <td>   1.000000</td>\n",
        "      <td>  20.000000</td>\n",
        "      <td>   0.000000</td>\n",
        "      <td>   0.000000</td>\n",
        "      <td>   8.050000</td>\n",
        "    </tr>\n",
        "    <tr>\n",
        "      <th>50%</th>\n",
        "      <td> 445.000000</td>\n",
        "      <td>   0.000000</td>\n",
        "      <td>   2.000000</td>\n",
        "      <td>  28.000000</td>\n",
        "      <td>   0.000000</td>\n",
        "      <td>   0.000000</td>\n",
        "      <td>  15.645850</td>\n",
        "    </tr>\n",
        "    <tr>\n",
        "      <th>75%</th>\n",
        "      <td> 677.250000</td>\n",
        "      <td>   1.000000</td>\n",
        "      <td>   3.000000</td>\n",
        "      <td>  38.000000</td>\n",
        "      <td>   1.000000</td>\n",
        "      <td>   1.000000</td>\n",
        "      <td>  33.000000</td>\n",
        "    </tr>\n",
        "    <tr>\n",
        "      <th>max</th>\n",
        "      <td> 891.000000</td>\n",
        "      <td>   1.000000</td>\n",
        "      <td>   3.000000</td>\n",
        "      <td>  80.000000</td>\n",
        "      <td>   5.000000</td>\n",
        "      <td>   6.000000</td>\n",
        "      <td> 512.329200</td>\n",
        "    </tr>\n",
        "  </tbody>\n",
        "</table>\n",
        "</div>"
       ],
       "metadata": {},
       "output_type": "pyout",
       "prompt_number": 290,
       "text": [
        "       PassengerId    Survived      Pclass         Age       SibSp       Parch        Fare\n",
        "count   712.000000  712.000000  712.000000  712.000000  712.000000  712.000000  712.000000\n",
        "mean    448.589888    0.404494    2.240169   29.642093    0.514045    0.432584   34.567251\n",
        "std     258.683191    0.491139    0.836854   14.492933    0.930692    0.854181   52.938648\n",
        "min       1.000000    0.000000    1.000000    0.420000    0.000000    0.000000    0.000000\n",
        "25%     222.750000    0.000000    1.000000   20.000000    0.000000    0.000000    8.050000\n",
        "50%     445.000000    0.000000    2.000000   28.000000    0.000000    0.000000   15.645850\n",
        "75%     677.250000    1.000000    3.000000   38.000000    1.000000    1.000000   33.000000\n",
        "max     891.000000    1.000000    3.000000   80.000000    5.000000    6.000000  512.329200"
       ]
      }
     ],
     "prompt_number": 290
    },
    {
     "cell_type": "code",
     "collapsed": false,
     "input": [
      "dataset[['Age','Fare']][dataset.Fare<5]"
     ],
     "language": "python",
     "metadata": {},
     "outputs": [
      {
       "html": [
        "<div style=\"max-height:1000px;max-width:1500px;overflow:auto;\">\n",
        "<table border=\"1\" class=\"dataframe\">\n",
        "  <thead>\n",
        "    <tr style=\"text-align: right;\">\n",
        "      <th></th>\n",
        "      <th>Age</th>\n",
        "      <th>Fare</th>\n",
        "    </tr>\n",
        "  </thead>\n",
        "  <tbody>\n",
        "    <tr>\n",
        "      <th>179</th>\n",
        "      <td> 36</td>\n",
        "      <td> 0.0000</td>\n",
        "    </tr>\n",
        "    <tr>\n",
        "      <th>263</th>\n",
        "      <td> 40</td>\n",
        "      <td> 0.0000</td>\n",
        "    </tr>\n",
        "    <tr>\n",
        "      <th>271</th>\n",
        "      <td> 25</td>\n",
        "      <td> 0.0000</td>\n",
        "    </tr>\n",
        "    <tr>\n",
        "      <th>302</th>\n",
        "      <td> 19</td>\n",
        "      <td> 0.0000</td>\n",
        "    </tr>\n",
        "    <tr>\n",
        "      <th>378</th>\n",
        "      <td> 20</td>\n",
        "      <td> 4.0125</td>\n",
        "    </tr>\n",
        "    <tr>\n",
        "      <th>597</th>\n",
        "      <td> 49</td>\n",
        "      <td> 0.0000</td>\n",
        "    </tr>\n",
        "    <tr>\n",
        "      <th>806</th>\n",
        "      <td> 39</td>\n",
        "      <td> 0.0000</td>\n",
        "    </tr>\n",
        "    <tr>\n",
        "      <th>822</th>\n",
        "      <td> 38</td>\n",
        "      <td> 0.0000</td>\n",
        "    </tr>\n",
        "  </tbody>\n",
        "</table>\n",
        "</div>"
       ],
       "metadata": {},
       "output_type": "pyout",
       "prompt_number": 291,
       "text": [
        "     Age    Fare\n",
        "179   36  0.0000\n",
        "263   40  0.0000\n",
        "271   25  0.0000\n",
        "302   19  0.0000\n",
        "378   20  4.0125\n",
        "597   49  0.0000\n",
        "806   39  0.0000\n",
        "822   38  0.0000"
       ]
      }
     ],
     "prompt_number": 291
    },
    {
     "cell_type": "heading",
     "level": 3,
     "metadata": {},
     "source": [
      "Graphing with Matplotlib"
     ]
    },
    {
     "cell_type": "code",
     "collapsed": false,
     "input": [
      "dataset.Age[dataset.Pclass == 1]"
     ],
     "language": "python",
     "metadata": {},
     "outputs": [
      {
       "metadata": {},
       "output_type": "pyout",
       "prompt_number": 292,
       "text": [
        "1     38\n",
        "3     35\n",
        "6     54\n",
        "11    58\n",
        "23    28\n",
        "27    19\n",
        "30    40\n",
        "34    28\n",
        "35    42\n",
        "52    49\n",
        "54    65\n",
        "62    45\n",
        "83    28\n",
        "88    23\n",
        "92    46\n",
        "...\n",
        "809    33\n",
        "820    52\n",
        "822    38\n",
        "835    39\n",
        "842    30\n",
        "853    16\n",
        "856    45\n",
        "857    51\n",
        "862    48\n",
        "867    31\n",
        "871    47\n",
        "872    33\n",
        "879    56\n",
        "887    19\n",
        "889    26\n",
        "Name: Age, Length: 184, dtype: float64"
       ]
      }
     ],
     "prompt_number": 292
    },
    {
     "cell_type": "code",
     "collapsed": false,
     "input": [
      "fig = plt.figure(figsize=(18,6), dpi=1600) \n",
      "alpha=alpha_scatterplot = 0.2 \n",
      "alpha_bar_chart = 0.55\n",
      "\n",
      "ax1 = plt.subplot2grid((2,3),(0,0))\n",
      "ax1.set_xlim(-1, 2)\n",
      "dataset.Survived.value_counts().plot(kind='bar', alpha=alpha_bar_chart) \n",
      "plt.title(\"Count of survival, (1=survived)\")\n",
      "\n",
      "plt.subplot2grid((2,3),(0,1))\n",
      "plt.scatter(dataset.Survived, dataset.Age, alpha=alpha_scatterplot)\n",
      "# sets the y axis lable\n",
      "plt.ylabel(\"Age\")\n",
      "# formats the grid line style of our graphs                          \n",
      "plt.grid(b=True, which='major', axis='y')  \n",
      "plt.title(\"Survial by Age,  (1 = Survived)\")\n",
      "\n",
      "ax3 = plt.subplot2grid((2,3),(0,2))\n",
      "dataset.Pclass.value_counts().plot(kind=\"barh\", alpha=alpha_bar_chart)\n",
      "ax3.set_ylim(-1, len(dataset.Pclass.value_counts()))\n",
      "plt.title(\"Class Distribution\")\n",
      "\n",
      "plt.subplot2grid((2,3),(1,0), colspan=2)\n",
      "# plots a kernel desnsity estimate of the subset of the 1st class passanges's age\n",
      "dataset.Age[dataset.Pclass == 1].plot(kind='kde')    \n",
      "dataset.Age[dataset.Pclass == 2].plot(kind='kde')\n",
      "dataset.Age[dataset.Pclass == 3].plot(kind='kde')\n",
      " # plots an axis lable\n",
      "plt.xlabel(\"Age\")    \n",
      "plt.title(\"Age Distribution within classes\")\n",
      "# sets our legend for our graph.\n",
      "plt.legend(('1st Class', '2nd Class','3rd Class'),loc='best') \n",
      "\n",
      "ax5 = plt.subplot2grid((2,3),(1,2))\n",
      "dataset.Embarked.value_counts().plot(kind='bar', alpha=alpha_bar_chart)\n",
      "ax5.set_xlim(-1, len(dataset.Embarked.value_counts()))\n",
      "plt.title(\"Passengers per boarding location\")# specifies the parameters of our graphs"
     ],
     "language": "python",
     "metadata": {},
     "outputs": [
      {
       "metadata": {},
       "output_type": "pyout",
       "prompt_number": 293,
       "text": [
        "<matplotlib.text.Text at 0x10d6e2050>"
       ]
      },
      {
       "metadata": {},
       "output_type": "display_data",
       "png": "[encoded data removed]",
       "text": [
        "<matplotlib.figure.Figure at 0x10d3a2910>"
       ]
      }
     ],
     "prompt_number": 293
    },
    {
     "cell_type": "code",
     "collapsed": false,
     "input": [
      "plt.figure(figsize=(4,4))\n",
      "fig, ax = plt.subplots()\n",
      "dataset.Survived.value_counts().plot(kind='barh', color=\"blue\", alpha=.55)\n",
      "plt.title(\"Survival Breakdown (1 = Survived, 0 = Died)\")"
     ],
     "language": "python",
     "metadata": {},
     "outputs": [
      {
       "metadata": {},
       "output_type": "pyout",
       "prompt_number": 294,
       "text": [
        "<matplotlib.text.Text at 0x10d79c210>"
       ]
      },
      {
       "metadata": {},
       "output_type": "display_data",
       "text": [
        "<matplotlib.figure.Figure at 0x10d38c810>"
       ]
      },
      {
       "metadata": {},
       "output_type": "display_data",
       "png": "[encoded data removed]",
       "text": [
        "<matplotlib.figure.Figure at 0x10d38ce10>"
       ]
      }
     ],
     "prompt_number": 294
    },
    {
     "cell_type": "code",
     "collapsed": false,
     "input": [
      "fig = plt.figure(figsize=(18,6))\n",
      "\n",
      "# create a plot of two subsets, male and female, of the survived variable.\n",
      "# After we do that we call value_counts() so it can be easily plotted as a bar graph. \n",
      "# 'barh' is just a horizontal bar graph\n",
      "ax1 = fig.add_subplot(121)\n",
      "dataset.Survived[dataset.Sex == 'male'].value_counts().plot(kind='barh',label='Male')\n",
      "dataset.Survived[dataset.Sex == 'female'].value_counts().plot(kind='barh', color='#FA2379',label='Female')\n",
      "plt.title(\"Who Survived? with respect to Gender, (raw value counts) \"); plt.legend(loc='best')\n",
      "\n",
      "\n",
      "# adjust graph to display the proportions of survival by gender\n",
      "ax2 = fig.add_subplot(122)\n",
      "(dataset.Survived[dataset.Sex == 'male'].value_counts()/float(dataset.Sex[dataset.Sex == 'male'].size)).plot(kind='barh',label='Male')  \n",
      "(dataset.Survived[dataset.Sex == 'female'].value_counts()/float(dataset.Sex[dataset.Sex == 'female'].size)).plot(kind='barh', color='#FA2379',label='Female')\n",
      "plt.title(\"Who Survived proportionally? with respect to Gender\"); plt.legend(loc='best')"
     ],
     "language": "python",
     "metadata": {},
     "outputs": [
      {
       "metadata": {},
       "output_type": "pyout",
       "prompt_number": 295,
       "text": [
        "<matplotlib.legend.Legend at 0x10d7cd5d0>"
       ]
      },
      {
       "metadata": {},
       "output_type": "display_data",
       "png": "[encoded data removed]",
       "text": [
        "<matplotlib.figure.Figure at 0x10d7938d0>"
       ]
      }
     ],
     "prompt_number": 295
    },
    {
     "cell_type": "heading",
     "level": 3,
     "metadata": {},
     "source": [
      "Using CSV reader and numpy for data analysis"
     ]
    },
    {
     "cell_type": "code",
     "collapsed": false,
     "input": [
      "train_data = pd.read_csv(\"/Users/genos/Dropbox/Data-Science-GA/titanic/train.csv\")\n",
      "test_data = pd.read_csv(\"/Users/genos/Dropbox/Data-Science-GA/titanic/test.csv\")"
     ],
     "language": "python",
     "metadata": {},
     "outputs": [],
     "prompt_number": 296
    },
    {
     "cell_type": "code",
     "collapsed": false,
     "input": [
      "train_data.head()"
     ],
     "language": "python",
     "metadata": {},
     "outputs": [
      {
       "html": [
        "<div style=\"max-height:1000px;max-width:1500px;overflow:auto;\">\n",
        "<table border=\"1\" class=\"dataframe\">\n",
        "  <thead>\n",
        "    <tr style=\"text-align: right;\">\n",
        "      <th></th>\n",
        "      <th>PassengerId</th>\n",
        "      <th>Survived</th>\n",
        "      <th>Pclass</th>\n",
        "      <th>Name</th>\n",
        "      <th>Sex</th>\n",
        "      <th>Age</th>\n",
        "      <th>SibSp</th>\n",
        "      <th>Parch</th>\n",
        "      <th>Ticket</th>\n",
        "      <th>Fare</th>\n",
        "      <th>Cabin</th>\n",
        "      <th>Embarked</th>\n",
        "    </tr>\n",
        "  </thead>\n",
        "  <tbody>\n",
        "    <tr>\n",
        "      <th>0</th>\n",
        "      <td> 1</td>\n",
        "      <td> 0</td>\n",
        "      <td> 3</td>\n",
        "      <td>                           Braund, Mr. Owen Harris</td>\n",
        "      <td>   male</td>\n",
        "      <td> 22</td>\n",
        "      <td> 1</td>\n",
        "      <td> 0</td>\n",
        "      <td>        A/5 21171</td>\n",
        "      <td>  7.2500</td>\n",
        "      <td>  NaN</td>\n",
        "      <td> S</td>\n",
        "    </tr>\n",
        "    <tr>\n",
        "      <th>1</th>\n",
        "      <td> 2</td>\n",
        "      <td> 1</td>\n",
        "      <td> 1</td>\n",
        "      <td> Cumings, Mrs. John Bradley (Florence Briggs Th...</td>\n",
        "      <td> female</td>\n",
        "      <td> 38</td>\n",
        "      <td> 1</td>\n",
        "      <td> 0</td>\n",
        "      <td>         PC 17599</td>\n",
        "      <td> 71.2833</td>\n",
        "      <td>  C85</td>\n",
        "      <td> C</td>\n",
        "    </tr>\n",
        "    <tr>\n",
        "      <th>2</th>\n",
        "      <td> 3</td>\n",
        "      <td> 1</td>\n",
        "      <td> 3</td>\n",
        "      <td>                            Heikkinen, Miss. Laina</td>\n",
        "      <td> female</td>\n",
        "      <td> 26</td>\n",
        "      <td> 0</td>\n",
        "      <td> 0</td>\n",
        "      <td> STON/O2. 3101282</td>\n",
        "      <td>  7.9250</td>\n",
        "      <td>  NaN</td>\n",
        "      <td> S</td>\n",
        "    </tr>\n",
        "    <tr>\n",
        "      <th>3</th>\n",
        "      <td> 4</td>\n",
        "      <td> 1</td>\n",
        "      <td> 1</td>\n",
        "      <td>      Futrelle, Mrs. Jacques Heath (Lily May Peel)</td>\n",
        "      <td> female</td>\n",
        "      <td> 35</td>\n",
        "      <td> 1</td>\n",
        "      <td> 0</td>\n",
        "      <td>           113803</td>\n",
        "      <td> 53.1000</td>\n",
        "      <td> C123</td>\n",
        "      <td> S</td>\n",
        "    </tr>\n",
        "    <tr>\n",
        "      <th>4</th>\n",
        "      <td> 5</td>\n",
        "      <td> 0</td>\n",
        "      <td> 3</td>\n",
        "      <td>                          Allen, Mr. William Henry</td>\n",
        "      <td>   male</td>\n",
        "      <td> 35</td>\n",
        "      <td> 0</td>\n",
        "      <td> 0</td>\n",
        "      <td>           373450</td>\n",
        "      <td>  8.0500</td>\n",
        "      <td>  NaN</td>\n",
        "      <td> S</td>\n",
        "    </tr>\n",
        "  </tbody>\n",
        "</table>\n",
        "</div>"
       ],
       "metadata": {},
       "output_type": "pyout",
       "prompt_number": 297,
       "text": [
        "   PassengerId  Survived  Pclass  \\\n",
        "0            1         0       3   \n",
        "1            2         1       1   \n",
        "2            3         1       3   \n",
        "3            4         1       1   \n",
        "4            5         0       3   \n",
        "\n",
        "                                                Name     Sex  Age  SibSp  \\\n",
        "0                            Braund, Mr. Owen Harris    male   22      1   \n",
        "1  Cumings, Mrs. John Bradley (Florence Briggs Th...  female   38      1   \n",
        "2                             Heikkinen, Miss. Laina  female   26      0   \n",
        "3       Futrelle, Mrs. Jacques Heath (Lily May Peel)  female   35      1   \n",
        "4                           Allen, Mr. William Henry    male   35      0   \n",
        "\n",
        "   Parch            Ticket     Fare Cabin Embarked  \n",
        "0      0         A/5 21171   7.2500   NaN        S  \n",
        "1      0          PC 17599  71.2833   C85        C  \n",
        "2      0  STON/O2. 3101282   7.9250   NaN        S  \n",
        "3      0            113803  53.1000  C123        S  \n",
        "4      0            373450   8.0500   NaN        S  "
       ]
      }
     ],
     "prompt_number": 297
    },
    {
     "cell_type": "code",
     "collapsed": false,
     "input": [
      "train_male = train_data.Sex == 'male'\n",
      "train_data[train_male].head()\n",
      "first_class = train_data.Pclass == 1\n",
      "second_class = train_data.Pclass == 2\n",
      "third_class = train_data.Pclass == 3\n",
      "fare_class = train_data.pivot_table('Fare', rows = 'Pclass', aggfunc = 'median')"
     ],
     "language": "python",
     "metadata": {},
     "outputs": [],
     "prompt_number": 298
    },
    {
     "cell_type": "code",
     "collapsed": false,
     "input": [
      "print fare_class\n",
      "fare_class[1]"
     ],
     "language": "python",
     "metadata": {},
     "outputs": [
      {
       "output_type": "stream",
       "stream": "stdout",
       "text": [
        "Pclass\n",
        "1         60.2875\n",
        "2         14.2500\n",
        "3          8.0500\n",
        "Name: Fare, dtype: float64\n"
       ]
      },
      {
       "metadata": {},
       "output_type": "pyout",
       "prompt_number": 299,
       "text": [
        "60.287499999999994"
       ]
      }
     ],
     "prompt_number": 299
    },
    {
     "cell_type": "code",
     "collapsed": false,
     "input": [
      "train_data[\"gender\"] = train_data[\"Sex\"].map(lambda x: 1 if x == \"male\" else 0)\n",
      "test_data[\"gender\"] = test_data[\"Sex\"].map(lambda x: 1 if x == \"male\" else 0)"
     ],
     "language": "python",
     "metadata": {},
     "outputs": [],
     "prompt_number": 416
    },
    {
     "cell_type": "code",
     "collapsed": false,
     "input": [
      "train_data[\"child\"] = train_data[\"Age\"].map(lambda x: 1 if x < 18 else 0)\n",
      "test_data[\"child\"] = train_data[\"Age\"].map(lambda x: 1 if x < 18 else 0)"
     ],
     "language": "python",
     "metadata": {},
     "outputs": [],
     "prompt_number": 425
    },
    {
     "cell_type": "code",
     "collapsed": false,
     "input": [
      "csv_file_object = csv.reader(open('/Users/genos/Dropbox/Data-Science-GA/titanic/train.csv', 'rb')) \n",
      "header = csv_file_object.next()  #The next() command just skips the \n",
      "                                 #first line which is a header\n",
      "data=[]                          #Create a variable called 'data'\n",
      "for row in csv_file_object:      #Run through each row in the csv file\n",
      "    data.append(row)             #adding each row to the data variable\n",
      "data = np.array(data) \t         #put everything in array format"
     ],
     "language": "python",
     "metadata": {},
     "outputs": [],
     "prompt_number": 300
    },
    {
     "cell_type": "code",
     "collapsed": false,
     "input": [
      "type(data)"
     ],
     "language": "python",
     "metadata": {},
     "outputs": [
      {
       "metadata": {},
       "output_type": "pyout",
       "prompt_number": 301,
       "text": [
        "numpy.ndarray"
       ]
      }
     ],
     "prompt_number": 301
    },
    {
     "cell_type": "code",
     "collapsed": false,
     "input": [
      "data.shape"
     ],
     "language": "python",
     "metadata": {},
     "outputs": [
      {
       "metadata": {},
       "output_type": "pyout",
       "prompt_number": 302,
       "text": [
        "(891, 12)"
       ]
      }
     ],
     "prompt_number": 302
    },
    {
     "cell_type": "code",
     "collapsed": false,
     "input": [
      "print header"
     ],
     "language": "python",
     "metadata": {},
     "outputs": [
      {
       "output_type": "stream",
       "stream": "stdout",
       "text": [
        "['PassengerId', 'Survived', 'Pclass', 'Name', 'Sex', 'Age', 'SibSp', 'Parch', 'Ticket', 'Fare', 'Cabin', 'Embarked']\n"
       ]
      }
     ],
     "prompt_number": 303
    },
    {
     "cell_type": "code",
     "collapsed": false,
     "input": [
      "print data #print the array"
     ],
     "language": "python",
     "metadata": {},
     "outputs": [
      {
       "output_type": "stream",
       "stream": "stdout",
       "text": [
        "[['1' '0' '3' ..., '7.25' '' 'S']\n",
        " ['2' '1' '1' ..., '71.2833' 'C85' 'C']\n",
        " ['3' '1' '3' ..., '7.925' '' 'S']\n",
        " ..., \n",
        " ['889' '0' '3' ..., '23.45' '' 'S']\n",
        " ['890' '1' '1' ..., '30' 'C148' 'C']\n",
        " ['891' '0' '3' ..., '7.75' '' 'Q']]\n"
       ]
      }
     ],
     "prompt_number": 304
    },
    {
     "cell_type": "code",
     "collapsed": false,
     "input": [
      "data[0] #see all the data in the first record"
     ],
     "language": "python",
     "metadata": {},
     "outputs": [
      {
       "metadata": {},
       "output_type": "pyout",
       "prompt_number": 305,
       "text": [
        "array(['1', '0', '3', 'Braund, Mr. Owen Harris', 'male', '22', '1', '0',\n",
        "       'A/5 21171', '7.25', '', 'S'], \n",
        "      dtype='|S82')"
       ]
      }
     ],
     "prompt_number": 305
    },
    {
     "cell_type": "heading",
     "level": 3,
     "metadata": {},
     "source": [
      "Basic Data Munging"
     ]
    },
    {
     "cell_type": "code",
     "collapsed": false,
     "input": [
      "#Come up with some basic summary stats\n",
      "number_passengers=np.size(data[:,0].astype(np.float))\n",
      "number_survived=np.sum(data[:,1].astype(np.float))\n",
      "percent_survived = float(number_survived/number_passengers)"
     ],
     "language": "python",
     "metadata": {},
     "outputs": [],
     "prompt_number": 306
    },
    {
     "cell_type": "code",
     "collapsed": false,
     "input": [
      "print \"------Summary of stats-------\"\n",
      "print \"Number of passengers: %s\" %number_passengers\n",
      "print \"Number of survivors: %s\" %number_survived\n",
      "print \"%% of survivors vs passengers: %s\" %percent_survived"
     ],
     "language": "python",
     "metadata": {},
     "outputs": [
      {
       "output_type": "stream",
       "stream": "stdout",
       "text": [
        "------Summary of stats-------\n",
        "Number of passengers: 891\n",
        "Number of survivors: 342.0\n",
        "% of survivors vs passengers: 0.383838383838\n"
       ]
      }
     ],
     "prompt_number": 307
    },
    {
     "cell_type": "code",
     "collapsed": false,
     "input": [
      "female_only=data[:,4]=='female'\n",
      "male_only=data[:,4]=='male'\n",
      "other_only=data[:,4]==''\n",
      "#test=data[:,4]!='female'"
     ],
     "language": "python",
     "metadata": {},
     "outputs": [],
     "prompt_number": 308
    },
    {
     "cell_type": "code",
     "collapsed": false,
     "input": [
      "female_count=np.size(data[female_only,0].astype(np.float))\n",
      "male_count=np.size(data[male_only,0].astype(np.float))\n",
      "other_count=np.size(data[other_only,0].astype(np.float))\n",
      "#test_count=np.size(data[test,0].astype(np.float))\n",
      "#print test_count"
     ],
     "language": "python",
     "metadata": {},
     "outputs": [],
     "prompt_number": 309
    },
    {
     "cell_type": "code",
     "collapsed": false,
     "input": [
      "print \"------Summary of gender stats-------\"\n",
      "print \"Number of female passengers: {}\".format(female_count)\n",
      "print \"Number of male passengers: %s\" %male_count\n",
      "print \"Number of other passengers: %s\" %other_count"
     ],
     "language": "python",
     "metadata": {},
     "outputs": [
      {
       "output_type": "stream",
       "stream": "stdout",
       "text": [
        "------Summary of gender stats-------\n",
        "Number of female passengers: 314\n",
        "Number of male passengers: 577\n",
        "Number of other passengers: 0\n"
       ]
      }
     ],
     "prompt_number": 336
    },
    {
     "cell_type": "code",
     "collapsed": false,
     "input": [
      "print \"------Summary of age stats-------\"\n",
      "print \"Number of passengers with missing age: %s\" %missing_age_count"
     ],
     "language": "python",
     "metadata": {},
     "outputs": [
      {
       "output_type": "stream",
       "stream": "stdout",
       "text": [
        "------Summary of age stats-------\n",
        "Number of passengers with missing age: 177\n"
       ]
      }
     ],
     "prompt_number": 313
    },
    {
     "cell_type": "heading",
     "level": 3,
     "metadata": {},
     "source": [
      "Input all the various learning algorithms"
     ]
    },
    {
     "cell_type": "code",
     "collapsed": false,
     "input": [
      "from sklearn import datasets\n",
      "from sklearn.neighbors import KNeighborsClassifier\n",
      "from sklearn.naive_bayes import GaussianNB\n",
      "from sklearn.cross_validation import KFold\n",
      "from sklearn.linear_model import LinearRegression,LogisticRegression\n",
      "from sklearn.ensemble import RandomForestClassifier\n",
      "\n",
      "\n",
      "def logit(X_train, y_train,arg=1.0):\n",
      "    logr = LogisticRegression(C=arg)\n",
      "    clf = logr.fit(X_train, y_train)\n",
      "   # clf = LogisticRegression()\n",
      "   # clf.fit(X_train,y_train)\n",
      "\n",
      "    return clf\n",
      "\n",
      "\n",
      "def lr(X_train, y_train):\n",
      "    # funtion returns an LR object\n",
      "    #  useful methods of this object for this exercise:                                                                                                                    \n",
      "    #   fit(X_train, y_train) --> fit the model using a training set                                                                                                       \n",
      "    #   predict(X_classify) --> to predict a result using the trained model                                                                                                \n",
      "    #   score(X_test, y_test) --> to score the model using a test set\n",
      "    \n",
      "    clf = LinearRegression()\n",
      "    clf.fit(X_train, y_train)\n",
      "\n",
      "    return clf\n",
      "\n",
      "def knn(X_train, y_train, k_neighbors = 3 ) :\n",
      "    # function returns a kNN object\n",
      "    #  useful methods of this object for this exercise:\n",
      "    #   fit(X_train, y_train) --> fit the model using a training set\n",
      "    #   predict(X_classify) --> to predict a result using the trained model\n",
      "    #   score(X_test, y_test) --> to score the model using a test set\n",
      "\n",
      "    clf = KNeighborsClassifier(k_neighbors)\n",
      "    clf.fit(X_train, y_train)\n",
      "\n",
      "    return clf\n",
      "\n",
      "\n",
      "def nb(X_train, y_train) :\n",
      "    # this function returns a Naive Bayes object\n",
      "    #  useful methods of this object for this exercise:\n",
      "    #   fit(X_train, y_train) --> fit the model using a training set\n",
      "    #   predict(X_classify) --> to predict a result using the trained model\n",
      "    #   score(X_test, y_test) --> to score the model using a test set\n",
      "\n",
      "    gnb = GaussianNB()\n",
      "    clf = gnb.fit(X_train, y_train)\n",
      "\n",
      "    return clf\n",
      "\n",
      "def rnd(X_train, y_train):\n",
      "    clf = RandomForestClassifier()\n",
      "    clf.fit(X_train, y_train)\n",
      "    return clf\n",
      "\n",
      "    \n",
      "# generic cross validation function\n"
     ],
     "language": "python",
     "metadata": {},
     "outputs": [],
     "prompt_number": 458
    },
    {
     "cell_type": "code",
     "collapsed": false,
     "input": [],
     "language": "python",
     "metadata": {},
     "outputs": [],
     "prompt_number": 374
    },
    {
     "cell_type": "heading",
     "level": 3,
     "metadata": {},
     "source": [
      "Cross Validation Function"
     ]
    },
    {
     "cell_type": "code",
     "collapsed": false,
     "input": [
      "#def cross_validate(XX, yy,classifier, k_fold,cparam) :\n",
      "def cross_validate(XX, yy,classifier, k_fold) :\n",
      "    # derive a set of (random) training and testing indices\n",
      "    k_fold_indices = KFold(len(XX), n_folds=k_fold, indices=True, shuffle=True, random_state=0)\n",
      "\n",
      "    k_score_total = 0\n",
      "    # for each training and testing slices run the classifier, and score the results\n",
      "    for train_slice, test_slice in k_fold_indices :\n",
      "\n",
      "        #model = classifier(XX[[ train_slice  ]], yy[[ train_slice ]],cparam)\n",
      "        model = classifier(XX[[ train_slice  ]], yy[[ train_slice ]])\n",
      "\n",
      "        k_score = model.score(XX[[ test_slice ]],\n",
      "                              yy[[ test_slice ]])\n",
      "\n",
      "        k_score_total += k_score\n",
      "\n",
      "    # return the average accuracy\n",
      "    return k_score_total/k_fold\n"
     ],
     "language": "python",
     "metadata": {},
     "outputs": [],
     "prompt_number": 459
    },
    {
     "cell_type": "code",
     "collapsed": false,
     "input": [
      "feature_list = [\"child\",\"Pclass\",\"gender\"]\n",
      "#feature_list = [\"Pclass\"]\n",
      "XX = train_data[feature_list].values\n",
      "YY = train_data[\"Survived\"].values"
     ],
     "language": "python",
     "metadata": {},
     "outputs": [],
     "prompt_number": 460
    },
    {
     "cell_type": "code",
     "collapsed": false,
     "input": [
      "from numpy import arange\n",
      "\n",
      "classfiers_to_cv=[(\"kNN\",knn),(\"Naive Bayes\",nb), (\"Linear Regression\",lr),(\"Logistic Regression\",logit),\n",
      "                  (\"Random Forest\",rnd)]\n",
      "#classfiers_to_cv=[(\"Logistic Regression\",logit)]\n",
      "\n",
      "for (c_label, classifier) in classfiers_to_cv :\n",
      "    #k = int(raw_input('input your k-fold parameter: ',))\n",
      "    print\n",
      "    print \"---> %s <---\" % c_label\n",
      "\n",
      "    best_k=0\n",
      "    best_cv_a=0\n",
      "    for k in arange(2,20,4):\n",
      "    #cv_a = cross_validate(feature_selection, target, classifier, k_fold=k,cparam=a) \n",
      "        cv_a = cross_validate(feature_selection, target, classifier, k_fold=k)\n",
      "        if cv_a >  best_cv_a :\n",
      "            best_cv_a=cv_a\n",
      "            best_k=k\n",
      "\n",
      "       #print \"C Regularization <<%s>> :: acc <<%s>>\" % (a, cv_a)\n",
      "        print \" k-fold=%s:: acc <<%s>>\" % (k,cv_a)\n",
      "\n",
      "\n",
      "    print \"\\n For k-fold=%s, %s Highest Accuracy:: <<%s>>\\n\" % (best_k,c_label, best_cv_a)\n"
     ],
     "language": "python",
     "metadata": {},
     "outputs": [
      {
       "ename": "TypeError",
       "evalue": "'KNeighborsClassifier' object is not callable",
       "output_type": "pyerr",
       "traceback": [
        "\u001b[0;31m---------------------------------------------------------------------------\u001b[0m\n\u001b[0;31mTypeError\u001b[0m                                 Traceback (most recent call last)",
        "\u001b[0;32m<ipython-input-482-154d1ceec959>\u001b[0m in \u001b[0;36m<module>\u001b[0;34m()\u001b[0m\n\u001b[1;32m     14\u001b[0m     \u001b[0;32mfor\u001b[0m \u001b[0mk\u001b[0m \u001b[0;32min\u001b[0m \u001b[0marange\u001b[0m\u001b[0;34m(\u001b[0m\u001b[0;36m2\u001b[0m\u001b[0;34m,\u001b[0m\u001b[0;36m20\u001b[0m\u001b[0;34m,\u001b[0m\u001b[0;36m4\u001b[0m\u001b[0;34m)\u001b[0m\u001b[0;34m:\u001b[0m\u001b[0;34m\u001b[0m\u001b[0m\n\u001b[1;32m     15\u001b[0m     \u001b[0;31m#cv_a = cross_validate(feature_selection, target, classifier, k_fold=k,cparam=a)\u001b[0m\u001b[0;34m\u001b[0m\u001b[0;34m\u001b[0m\u001b[0m\n\u001b[0;32m---> 16\u001b[0;31m         \u001b[0mcv_a\u001b[0m \u001b[0;34m=\u001b[0m \u001b[0mcross_validate\u001b[0m\u001b[0;34m(\u001b[0m\u001b[0mfeature_selection\u001b[0m\u001b[0;34m,\u001b[0m \u001b[0mtarget\u001b[0m\u001b[0;34m,\u001b[0m \u001b[0mclassifier\u001b[0m\u001b[0;34m,\u001b[0m \u001b[0mk_fold\u001b[0m\u001b[0;34m=\u001b[0m\u001b[0mk\u001b[0m\u001b[0;34m)\u001b[0m\u001b[0;34m\u001b[0m\u001b[0m\n\u001b[0m\u001b[1;32m     17\u001b[0m         \u001b[0;32mif\u001b[0m \u001b[0mcv_a\u001b[0m \u001b[0;34m>\u001b[0m  \u001b[0mbest_cv_a\u001b[0m \u001b[0;34m:\u001b[0m\u001b[0;34m\u001b[0m\u001b[0m\n\u001b[1;32m     18\u001b[0m             \u001b[0mbest_cv_a\u001b[0m\u001b[0;34m=\u001b[0m\u001b[0mcv_a\u001b[0m\u001b[0;34m\u001b[0m\u001b[0m\n",
        "\u001b[0;32m<ipython-input-459-bef53f3e749a>\u001b[0m in \u001b[0;36mcross_validate\u001b[0;34m(XX, yy, classifier, k_fold)\u001b[0m\n\u001b[1;32m      9\u001b[0m \u001b[0;34m\u001b[0m\u001b[0m\n\u001b[1;32m     10\u001b[0m         \u001b[0;31m#model = classifier(XX[[ train_slice  ]], yy[[ train_slice ]],cparam)\u001b[0m\u001b[0;34m\u001b[0m\u001b[0;34m\u001b[0m\u001b[0m\n\u001b[0;32m---> 11\u001b[0;31m         \u001b[0mmodel\u001b[0m \u001b[0;34m=\u001b[0m \u001b[0mclassifier\u001b[0m\u001b[0;34m(\u001b[0m\u001b[0mXX\u001b[0m\u001b[0;34m[\u001b[0m\u001b[0;34m[\u001b[0m \u001b[0mtrain_slice\u001b[0m  \u001b[0;34m]\u001b[0m\u001b[0;34m]\u001b[0m\u001b[0;34m,\u001b[0m \u001b[0myy\u001b[0m\u001b[0;34m[\u001b[0m\u001b[0;34m[\u001b[0m \u001b[0mtrain_slice\u001b[0m \u001b[0;34m]\u001b[0m\u001b[0;34m]\u001b[0m\u001b[0;34m)\u001b[0m\u001b[0;34m\u001b[0m\u001b[0m\n\u001b[0m\u001b[1;32m     12\u001b[0m \u001b[0;34m\u001b[0m\u001b[0m\n\u001b[1;32m     13\u001b[0m         k_score = model.score(XX[[ test_slice ]],\n",
        "\u001b[0;31mTypeError\u001b[0m: 'KNeighborsClassifier' object is not callable"
       ]
      },
      {
       "output_type": "stream",
       "stream": "stdout",
       "text": [
        "\n",
        "---> kNN <---\n"
       ]
      }
     ],
     "prompt_number": 482
    },
    {
     "cell_type": "code",
     "collapsed": false,
     "input": [
      "knn = KNeighborsClassifier(n_neighbors=3)\n",
      "#knn.fit(XX, YY)\n",
      "nb = GaussianNB()\n",
      "#nb.fit(XX,YY)\n",
      "forest = RandomForestClassifier()\n"
     ],
     "language": "python",
     "metadata": {},
     "outputs": [],
     "prompt_number": 476
    },
    {
     "cell_type": "code",
     "collapsed": false,
     "input": [
      "#output = knn.predict(test_data[feature_list])\n",
      "#output = nb.predict(test_data[feature_list])\n",
      "output = forest.fit(XX,YY).predict(test_data[feature_list])\n",
      "\n",
      "ids = []\n",
      "for row in open(\"/Users/genos/Dropbox/Data-Science-GA/titanic/test.csv\"):\n",
      "    if row.startswith(\"P\"): continue\n",
      "    line_data = row.split(\",\")\n",
      "    ids.append(line_data[0])"
     ],
     "language": "python",
     "metadata": {},
     "outputs": [],
     "prompt_number": 477
    },
    {
     "cell_type": "code",
     "collapsed": false,
     "input": [
      "output"
     ],
     "language": "python",
     "metadata": {},
     "outputs": [
      {
       "metadata": {},
       "output_type": "pyout",
       "prompt_number": 478,
       "text": [
        "array([0, 1, 0, 0, 1, 0, 1, 1, 1, 0, 0, 0, 1, 0, 1, 1, 1, 0, 1, 1, 0, 0, 1,\n",
        "       0, 1, 0, 1, 0, 0, 0, 0, 0, 1, 1, 0, 0, 1, 1, 0, 0, 0, 0, 0, 1, 1, 0,\n",
        "       0, 0, 1, 1, 1, 0, 1, 1, 0, 0, 0, 0, 0, 1, 0, 0, 0, 1, 0, 1, 1, 0, 1,\n",
        "       1, 1, 0, 1, 0, 1, 0, 0, 1, 1, 1, 0, 0, 0, 0, 1, 0, 1, 1, 1, 0, 1, 0,\n",
        "       1, 0, 0, 0, 1, 0, 1, 0, 1, 0, 0, 0, 1, 0, 0, 0, 0, 0, 0, 1, 1, 1, 1,\n",
        "       0, 0, 1, 0, 1, 1, 0, 1, 0, 0, 1, 0, 1, 0, 0, 0, 0, 1, 0, 0, 0, 0, 0,\n",
        "       1, 0, 1, 1, 0, 0, 0, 0, 0, 0, 0, 0, 1, 0, 0, 1, 0, 0, 1, 1, 0, 1, 1,\n",
        "       0, 1, 0, 1, 1, 0, 0, 1, 1, 0, 0, 0, 0, 0, 1, 1, 0, 1, 1, 0, 0, 1, 0,\n",
        "       1, 0, 1, 0, 1, 0, 0, 0, 0, 1, 0, 0, 0, 1, 0, 1, 1, 0, 0, 1, 0, 1, 1,\n",
        "       0, 1, 0, 0, 0, 0, 1, 1, 0, 1, 0, 1, 0, 1, 0, 1, 0, 1, 1, 0, 1, 0, 0,\n",
        "       0, 1, 0, 0, 0, 0, 0, 0, 1, 1, 1, 1, 0, 0, 0, 0, 1, 0, 1, 1, 1, 0, 0,\n",
        "       0, 0, 0, 0, 0, 1, 0, 0, 0, 1, 1, 0, 0, 1, 0, 1, 0, 0, 0, 1, 1, 0, 1,\n",
        "       0, 0, 1, 0, 1, 0, 1, 1, 1, 0, 0, 0, 0, 0, 0, 1, 0, 0, 0, 0, 1, 0, 0,\n",
        "       0, 0, 0, 0, 0, 1, 1, 0, 0, 0, 1, 0, 0, 0, 1, 1, 1, 0, 0, 0, 0, 0, 0,\n",
        "       0, 0, 1, 0, 1, 0, 0, 1, 1, 0, 0, 1, 0, 0, 0, 0, 0, 0, 1, 0, 0, 1, 0,\n",
        "       1, 0, 1, 1, 1, 1, 0, 1, 0, 1, 0, 1, 0, 0, 1, 0, 1, 1, 0, 1, 1, 0, 1,\n",
        "       1, 0, 0, 1, 0, 0, 1, 1, 1, 0, 0, 0, 0, 0, 1, 1, 0, 1, 0, 0, 0, 0, 0,\n",
        "       1, 0, 0, 0, 1, 0, 1, 0, 0, 1, 0, 1, 0, 0, 0, 0, 1, 1, 1, 1, 1, 1, 0,\n",
        "       1, 0, 0, 0])"
       ]
      }
     ],
     "prompt_number": 478
    },
    {
     "cell_type": "code",
     "collapsed": false,
     "input": [
      "open_file_object = csv.writer(open(\"/Users/genos/Dropbox/Data-Science-GA/titanic/thirdtry.csv\", \"wb\"))\n",
      "open_file_object.writerow([\"PassengerId\",\"Survived\"])\n",
      "open_file_object.writerows(zip(ids, output))"
     ],
     "language": "python",
     "metadata": {},
     "outputs": [],
     "prompt_number": 479
    }
   ],
   "metadata": {}
  }
 ]
}